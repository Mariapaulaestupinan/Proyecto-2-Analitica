{
 "cells": [
  {
   "cell_type": "code",
   "execution_count": 2,
   "id": "94da1630",
   "metadata": {},
   "outputs": [],
   "source": [
    "import pandas as pd\n",
    "import numpy as np\n",
    "from sklearn.model_selection import train_test_split\n",
    "from sklearn.preprocessing import StandardScaler\n",
    "from sklearn.metrics import classification_report, confusion_matrix, roc_auc_score\n",
    "from tensorflow.keras.models import Sequential\n",
    "from tensorflow.keras.layers import Dense, Dropout\n",
    "from tensorflow.keras.optimizers import Adam\n",
    "import matplotlib.pyplot as plt"
   ]
  },
  {
   "cell_type": "code",
   "execution_count": 3,
   "id": "09d529c6",
   "metadata": {},
   "outputs": [],
   "source": [
    "df = pd.read_csv(\"Datos_icfes_limpios.csv\")"
   ]
  },
  {
   "cell_type": "code",
   "execution_count": 4,
   "id": "d7f4a5a5",
   "metadata": {},
   "outputs": [],
   "source": [
    "threshold = df['punt_global'].quantile(0.25)\n",
    "df['bajo_desempeno'] = (df['punt_global'] <= threshold).astype(int)"
   ]
  },
  {
   "cell_type": "code",
   "execution_count": 5,
   "id": "f1412e61",
   "metadata": {},
   "outputs": [],
   "source": [
    "cols_utiles = [col for col in df.columns if (\n",
    "    col.startswith('fami_') or\n",
    "    (col.startswith('cole_bilingue')) or\n",
    "    col.startswith('estu_genero')\n",
    ")]\n",
    "X = df[cols_utiles].copy()\n",
    "y = df['bajo_desempeno']"
   ]
  },
  {
   "cell_type": "code",
   "execution_count": 6,
   "id": "b75e5b06",
   "metadata": {},
   "outputs": [],
   "source": [
    "X = X.apply(pd.to_numeric, errors='coerce')\n",
    "X = X.dropna(axis=1, how='all')\n",
    "X = X.dropna()\n",
    "y = y.loc[X.index]"
   ]
  },
  {
   "cell_type": "code",
   "execution_count": 7,
   "id": "3ced5a7b",
   "metadata": {},
   "outputs": [],
   "source": [
    "X_train, X_test, y_train, y_test = train_test_split(\n",
    "    X, y, test_size=0.2, stratify=y, random_state=42\n",
    ")\n",
    "scaler = StandardScaler()\n",
    "X_train_scaled = scaler.fit_transform(X_train)\n",
    "X_test_scaled = scaler.transform(X_test)"
   ]
  },
  {
   "cell_type": "code",
   "execution_count": 13,
   "id": "0cae47f3",
   "metadata": {},
   "outputs": [],
   "source": [
    "from sklearn.utils.class_weight import compute_class_weight\n",
    "import numpy as np\n",
    "\n",
    "weights = compute_class_weight('balanced', classes=np.unique(y_train), y=y_train)\n",
    "class_weights = dict(enumerate(weights))\n"
   ]
  },
  {
   "cell_type": "code",
   "execution_count": 8,
   "id": "4b09c2fa",
   "metadata": {},
   "outputs": [
    {
     "name": "stdout",
     "output_type": "stream",
     "text": [
      "Columnas usadas en X: ['cole_bilingue-N', 'cole_bilingue-S', 'estu_genero-F', 'estu_genero-M', 'fami_cuartoshogar-Cinco', 'fami_cuartoshogar-Cuatro', 'fami_cuartoshogar-Dos', 'fami_cuartoshogar-Seis o mas', 'fami_cuartoshogar-Tres', 'fami_cuartoshogar-Uno', 'fami_educacionmadre-Educación profesional completa', 'fami_educacionmadre-Educación profesional incompleta', 'fami_educacionmadre-Ninguno', 'fami_educacionmadre-Postgrado', 'fami_educacionmadre-Primaria completa', 'fami_educacionmadre-Primaria incompleta', 'fami_educacionmadre-Secundaria (Bachillerato) completa', 'fami_educacionmadre-Secundaria (Bachillerato) incompleta', 'fami_educacionmadre-Técnica o tecnológica completa', 'fami_educacionmadre-Técnica o tecnológica incompleta', 'fami_educacionpadre-Educación profesional completa', 'fami_educacionpadre-Educación profesional incompleta', 'fami_educacionpadre-Ninguno', 'fami_educacionpadre-Postgrado', 'fami_educacionpadre-Primaria completa', 'fami_educacionpadre-Primaria incompleta', 'fami_educacionpadre-Secundaria (Bachillerato) completa', 'fami_educacionpadre-Secundaria (Bachillerato) incompleta', 'fami_educacionpadre-Técnica o tecnológica completa', 'fami_educacionpadre-Técnica o tecnológica incompleta', 'fami_estratovivienda-Estrato 1', 'fami_estratovivienda-Estrato 2', 'fami_estratovivienda-Estrato 3', 'fami_estratovivienda-Estrato 4', 'fami_estratovivienda-Estrato 5', 'fami_estratovivienda-Estrato 6', 'fami_estratovivienda-Sin Estrato', 'fami_personashogar-1 a 2', 'fami_personashogar-3 a 4', 'fami_personashogar-5 a 6', 'fami_personashogar-7 a 8', 'fami_personashogar-9 o más', 'fami_tieneautomovil-No', 'fami_tieneautomovil-Si', 'fami_tienecomputador-No', 'fami_tienecomputador-Si', 'fami_tieneinternet-No', 'fami_tieneinternet-Si', 'fami_tienelavadora-No', 'fami_tienelavadora-Si']\n",
      "Forma de X: (512394, 50)\n"
     ]
    }
   ],
   "source": [
    "print(\"Columnas usadas en X:\", X.columns.tolist())\n",
    "print(\"Forma de X:\", X.shape)"
   ]
  },
  {
   "cell_type": "code",
   "execution_count": null,
   "id": "bbd28083",
   "metadata": {},
   "outputs": [
    {
     "name": "stderr",
     "output_type": "stream",
     "text": [
      "c:\\Users\\maria\\AppData\\Local\\Programs\\Python\\Python311\\Lib\\site-packages\\keras\\src\\layers\\core\\dense.py:87: UserWarning: Do not pass an `input_shape`/`input_dim` argument to a layer. When using Sequential models, prefer using an `Input(shape)` object as the first layer in the model instead.\n",
      "  super().__init__(activity_regularizer=activity_regularizer, **kwargs)\n"
     ]
    }
   ],
   "source": [
    "model = Sequential([\n",
    "    Dense(128, input_dim=X_train_scaled.shape[1], activation='relu'),\n",
    "    Dropout(0.4),\n",
    "    Dense(64, activation='relu'),\n",
    "    Dropout(0.3),\n",
    "    Dense(32, activation='relu'),\n",
    "    Dense(1, activation='sigmoid')\n",
    "])\n"
   ]
  },
  {
   "cell_type": "code",
   "execution_count": 10,
   "id": "ef19c776",
   "metadata": {},
   "outputs": [],
   "source": [
    "model.compile(loss='binary_crossentropy', optimizer=Adam(learning_rate=0.001), metrics=['accuracy'])"
   ]
  },
  {
   "cell_type": "code",
   "execution_count": 14,
   "id": "f90299f3",
   "metadata": {},
   "outputs": [
    {
     "name": "stdout",
     "output_type": "stream",
     "text": [
      "Epoch 1/20\n",
      "\u001b[1m10248/10248\u001b[0m \u001b[32m━━━━━━━━━━━━━━━━━━━━\u001b[0m\u001b[37m\u001b[0m \u001b[1m27s\u001b[0m 3ms/step - accuracy: 0.6532 - loss: 0.6171 - val_accuracy: 0.6379 - val_loss: 0.6002\n",
      "Epoch 2/20\n",
      "\u001b[1m10248/10248\u001b[0m \u001b[32m━━━━━━━━━━━━━━━━━━━━\u001b[0m\u001b[37m\u001b[0m \u001b[1m22s\u001b[0m 2ms/step - accuracy: 0.6294 - loss: 0.6129 - val_accuracy: 0.6307 - val_loss: 0.6113\n",
      "Epoch 3/20\n",
      "\u001b[1m10248/10248\u001b[0m \u001b[32m━━━━━━━━━━━━━━━━━━━━\u001b[0m\u001b[37m\u001b[0m \u001b[1m22s\u001b[0m 2ms/step - accuracy: 0.6343 - loss: 0.6120 - val_accuracy: 0.6014 - val_loss: 0.6346\n",
      "Epoch 4/20\n",
      "\u001b[1m10248/10248\u001b[0m \u001b[32m━━━━━━━━━━━━━━━━━━━━\u001b[0m\u001b[37m\u001b[0m \u001b[1m23s\u001b[0m 2ms/step - accuracy: 0.6365 - loss: 0.6103 - val_accuracy: 0.6425 - val_loss: 0.6001\n",
      "Epoch 5/20\n",
      "\u001b[1m10248/10248\u001b[0m \u001b[32m━━━━━━━━━━━━━━━━━━━━\u001b[0m\u001b[37m\u001b[0m \u001b[1m23s\u001b[0m 2ms/step - accuracy: 0.6380 - loss: 0.6110 - val_accuracy: 0.6125 - val_loss: 0.6265\n",
      "Epoch 6/20\n",
      "\u001b[1m10248/10248\u001b[0m \u001b[32m━━━━━━━━━━━━━━━━━━━━\u001b[0m\u001b[37m\u001b[0m \u001b[1m23s\u001b[0m 2ms/step - accuracy: 0.6366 - loss: 0.6104 - val_accuracy: 0.6328 - val_loss: 0.6167\n",
      "Epoch 7/20\n",
      "\u001b[1m10248/10248\u001b[0m \u001b[32m━━━━━━━━━━━━━━━━━━━━\u001b[0m\u001b[37m\u001b[0m \u001b[1m23s\u001b[0m 2ms/step - accuracy: 0.6357 - loss: 0.6115 - val_accuracy: 0.6436 - val_loss: 0.6122\n",
      "Epoch 8/20\n",
      "\u001b[1m10248/10248\u001b[0m \u001b[32m━━━━━━━━━━━━━━━━━━━━\u001b[0m\u001b[37m\u001b[0m \u001b[1m23s\u001b[0m 2ms/step - accuracy: 0.6423 - loss: 0.6082 - val_accuracy: 0.6482 - val_loss: 0.6110\n",
      "Epoch 9/20\n",
      "\u001b[1m10248/10248\u001b[0m \u001b[32m━━━━━━━━━━━━━━━━━━━━\u001b[0m\u001b[37m\u001b[0m \u001b[1m23s\u001b[0m 2ms/step - accuracy: 0.6383 - loss: 0.6105 - val_accuracy: 0.6363 - val_loss: 0.6115\n",
      "Epoch 10/20\n",
      "\u001b[1m10248/10248\u001b[0m \u001b[32m━━━━━━━━━━━━━━━━━━━━\u001b[0m\u001b[37m\u001b[0m \u001b[1m24s\u001b[0m 2ms/step - accuracy: 0.6400 - loss: 0.6115 - val_accuracy: 0.6311 - val_loss: 0.6170\n",
      "Epoch 11/20\n",
      "\u001b[1m10248/10248\u001b[0m \u001b[32m━━━━━━━━━━━━━━━━━━━━\u001b[0m\u001b[37m\u001b[0m \u001b[1m24s\u001b[0m 2ms/step - accuracy: 0.6376 - loss: 0.6106 - val_accuracy: 0.6431 - val_loss: 0.6079\n",
      "Epoch 12/20\n",
      "\u001b[1m10248/10248\u001b[0m \u001b[32m━━━━━━━━━━━━━━━━━━━━\u001b[0m\u001b[37m\u001b[0m \u001b[1m23s\u001b[0m 2ms/step - accuracy: 0.6409 - loss: 0.6109 - val_accuracy: 0.6291 - val_loss: 0.6085\n",
      "Epoch 13/20\n",
      "\u001b[1m10248/10248\u001b[0m \u001b[32m━━━━━━━━━━━━━━━━━━━━\u001b[0m\u001b[37m\u001b[0m \u001b[1m25s\u001b[0m 2ms/step - accuracy: 0.6380 - loss: 0.6104 - val_accuracy: 0.6437 - val_loss: 0.6018\n",
      "Epoch 14/20\n",
      "\u001b[1m10248/10248\u001b[0m \u001b[32m━━━━━━━━━━━━━━━━━━━━\u001b[0m\u001b[37m\u001b[0m \u001b[1m25s\u001b[0m 2ms/step - accuracy: 0.6399 - loss: 0.6097 - val_accuracy: 0.6642 - val_loss: 0.5821\n",
      "Epoch 15/20\n",
      "\u001b[1m10248/10248\u001b[0m \u001b[32m━━━━━━━━━━━━━━━━━━━━\u001b[0m\u001b[37m\u001b[0m \u001b[1m24s\u001b[0m 2ms/step - accuracy: 0.6406 - loss: 0.6102 - val_accuracy: 0.6425 - val_loss: 0.5972\n",
      "Epoch 16/20\n",
      "\u001b[1m10248/10248\u001b[0m \u001b[32m━━━━━━━━━━━━━━━━━━━━\u001b[0m\u001b[37m\u001b[0m \u001b[1m24s\u001b[0m 2ms/step - accuracy: 0.6407 - loss: 0.6096 - val_accuracy: 0.6342 - val_loss: 0.5947\n",
      "Epoch 17/20\n",
      "\u001b[1m10248/10248\u001b[0m \u001b[32m━━━━━━━━━━━━━━━━━━━━\u001b[0m\u001b[37m\u001b[0m \u001b[1m26s\u001b[0m 3ms/step - accuracy: 0.6367 - loss: 0.6106 - val_accuracy: 0.6357 - val_loss: 0.6060\n",
      "Epoch 18/20\n",
      "\u001b[1m10248/10248\u001b[0m \u001b[32m━━━━━━━━━━━━━━━━━━━━\u001b[0m\u001b[37m\u001b[0m \u001b[1m24s\u001b[0m 2ms/step - accuracy: 0.6367 - loss: 0.6106 - val_accuracy: 0.6425 - val_loss: 0.5982\n",
      "Epoch 19/20\n",
      "\u001b[1m10248/10248\u001b[0m \u001b[32m━━━━━━━━━━━━━━━━━━━━\u001b[0m\u001b[37m\u001b[0m \u001b[1m24s\u001b[0m 2ms/step - accuracy: 0.6362 - loss: 0.6102 - val_accuracy: 0.6292 - val_loss: 0.6292\n",
      "Epoch 20/20\n",
      "\u001b[1m10248/10248\u001b[0m \u001b[32m━━━━━━━━━━━━━━━━━━━━\u001b[0m\u001b[37m\u001b[0m \u001b[1m24s\u001b[0m 2ms/step - accuracy: 0.6371 - loss: 0.6106 - val_accuracy: 0.6280 - val_loss: 0.6169\n"
     ]
    }
   ],
   "source": [
    "history = model.fit(X_train_scaled, y_train,\n",
    "          epochs=20,\n",
    "          batch_size=32,\n",
    "          validation_split=0.2,\n",
    "          class_weight=class_weights,\n",
    "          verbose=1)\n",
    "\n"
   ]
  },
  {
   "cell_type": "code",
   "execution_count": null,
   "id": "9e26bc09",
   "metadata": {},
   "outputs": [],
   "source": []
  },
  {
   "cell_type": "code",
   "execution_count": 18,
   "id": "050d539f",
   "metadata": {},
   "outputs": [
    {
     "name": "stdout",
     "output_type": "stream",
     "text": [
      "\u001b[1m3203/3203\u001b[0m \u001b[32m━━━━━━━━━━━━━━━━━━━━\u001b[0m\u001b[37m\u001b[0m \u001b[1m2s\u001b[0m 743us/step\n",
      "Classification Report:\n",
      "              precision    recall  f1-score   support\n",
      "\n",
      "           0       0.92      0.33      0.48     76607\n",
      "           1       0.31      0.91      0.47     25872\n",
      "\n",
      "    accuracy                           0.48    102479\n",
      "   macro avg       0.62      0.62      0.48    102479\n",
      "weighted avg       0.77      0.48      0.48    102479\n",
      "\n",
      "Confusion Matrix:\n",
      "[[25135 51472]\n",
      " [ 2262 23610]]\n",
      "ROC AUC Score:\n",
      "0.7218842637585843\n"
     ]
    }
   ],
   "source": [
    "y_pred_prob = model.predict(X_test_scaled).ravel()\n",
    "y_pred = (y_pred_prob >= 0.35).astype(int)\n",
    "\n",
    "print(\"Classification Report:\")\n",
    "print(classification_report(y_test, y_pred))\n",
    "\n",
    "print(\"Confusion Matrix:\")\n",
    "print(confusion_matrix(y_test, y_pred))\n",
    "\n",
    "print(\"ROC AUC Score:\")\n",
    "print(roc_auc_score(y_test, y_pred_prob))\n"
   ]
  }
 ],
 "metadata": {
  "kernelspec": {
   "display_name": "Python 3",
   "language": "python",
   "name": "python3"
  },
  "language_info": {
   "codemirror_mode": {
    "name": "ipython",
    "version": 3
   },
   "file_extension": ".py",
   "mimetype": "text/x-python",
   "name": "python",
   "nbconvert_exporter": "python",
   "pygments_lexer": "ipython3",
   "version": "3.11.9"
  }
 },
 "nbformat": 4,
 "nbformat_minor": 5
}
